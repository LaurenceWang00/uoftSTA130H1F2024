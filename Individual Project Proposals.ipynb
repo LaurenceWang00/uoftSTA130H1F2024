{
 "cells": [
  {
   "cell_type": "code",
   "execution_count": null,
   "id": "61767d8f",
   "metadata": {},
   "outputs": [],
   "source": [
    "Research question 1: whether satisfcation of life after covid-19 imporved from 2021 to 2023\n",
    "    \n",
    "    variable: the satisfaction of life from 0 to 10 in 2021 and 2023\n",
    "    Q16 asks about \"On a scale of 1 to 10, How do you feel about your life as a whole right now?\" By hypothesis testing,\n",
    "    We could know wheter the satisfaction of life after the COVID-19 is improved.\n",
    "    The data in 2021 and 2023 could be by two different histogram as the data are discrete ratings from 0 to 10.\n",
    "        \n",
    "    Using hypothesis testing,that \n",
    "    H0: the average rating in 2023 - the average rating in 2021 = 0 \n",
    "    H1: the average rating in 2023 - the average rating in 2021 > 0\n",
    "        with a confidence interval of 95%\n",
    "    then randomly select sample with size n = 1000, calculate the difference of each value,\n",
    "    then estimate the population mean difference and calculate the p-value\n",
    "    \n",
    "    H0 may rejected as people will have a better quality of lives as the COVID-19 \n",
    "    is no longer a threat in 2023 compare to 2021.\n",
    "    \n",
    "    "
   ]
  },
  {
   "cell_type": "code",
   "execution_count": null,
   "id": "6e626cfa",
   "metadata": {},
   "outputs": [],
   "source": [
    "Research question 2: does the frequency stay online per day relate to the satisfaction of life?\n",
    "    \n",
    "    variable:\n",
    "        2023 Q54 How many times per day do you visit social networking websites (e.g., Instagram, Facebook, Twitter), on Average?\n",
    "        2023 Q16 On a scale of 1 to 10, How do you feel about your life as a whole right now?\n",
    "        \n",
    "        these two variables are selected as they represent the frequency of visiting social networks and their satisfaction of life.\n",
    "        histograms are used to visualize the data as they are all discrete.\n",
    "        \n",
    "    using linear regression to find out the correlation of coefficient.\n",
    "    if the absolute value of the correlation is greater than 0.78, then it is concluded that these two variables are highly correlated.\n",
    "\n",
    "    the frequency staying online per day may be negatively relate to the satisfaction of life, as increasing times on social network \n",
    "    may indicates their mental stress."
   ]
  },
  {
   "cell_type": "code",
   "execution_count": null,
   "id": "7750e1f8",
   "metadata": {},
   "outputs": [],
   "source": [
    "Research question 3: does learning online during COVID-19 pandemic has impacts on the time people spent on social network?\n",
    "    \n",
    "    variable:\n",
    "        2023 Q79 During the COVID-19 pandemic, how much of your coursework and learning has occured online?\n",
    "        2023 Q55 In the past week, on average, approximately how much time PER DAY have you spent actively using social networking websites?\n",
    "        \n",
    "        these two variables are selected as they shows how much time the spent online during the pandemic and the present.\n",
    "        they are shown in histogram, as the data are discrete from the survey though they should be continuous in the real life.\n",
    "        \n",
    "    randomly select 1000 samples from the population, and calculate the average time for each category.\n",
    "    then modeling use linear regression. the time spent online during pandemic is the independent variable,\n",
    "    the time spent online per day on social networking websites now is the dependent variable.\n",
    "    if the absolute value of the correlation is greater than 0.78, then it is concluded that these two variables are highly correlated.\n",
    "    \n",
    "    the slope of the model may be positive, indicating a positive relation between time spending online during pandemic to the time\n",
    "    people spent on social network now. \n",
    "        "
   ]
  }
 ],
 "metadata": {
  "kernelspec": {
   "display_name": "Python 3 (ipykernel)",
   "language": "python",
   "name": "python3"
  },
  "language_info": {
   "codemirror_mode": {
    "name": "ipython",
    "version": 3
   },
   "file_extension": ".py",
   "mimetype": "text/x-python",
   "name": "python",
   "nbconvert_exporter": "python",
   "pygments_lexer": "ipython3",
   "version": "3.11.6"
  }
 },
 "nbformat": 4,
 "nbformat_minor": 5
}
