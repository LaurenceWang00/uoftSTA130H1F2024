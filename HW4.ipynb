{
 "cells": [
  {
   "cell_type": "code",
   "execution_count": 2,
   "id": "cbde9918",
   "metadata": {},
   "outputs": [],
   "source": [
    "#Question 1\n",
    "#Standard deviation is the measurement of the dispersion of data points to the mean.\n",
    "#Standard Error of the Mean is the measurement of standard deviation of sampled distribution from the sample mean.\n",
    "#Standard deviation captures the variability of the data points, and the Standard Error of the Mean deals with how precise the estimated sample mean is to the true population mean."
   ]
  },
  {
   "cell_type": "code",
   "execution_count": null,
   "id": "99ba3845",
   "metadata": {},
   "outputs": [],
   "source": [
    "#Question 2\n",
    "#Collect the data, then start bootstrarping and calculate the sample mean and the standard error of the mean. Afterwards, create the 95% confidence interval by find the 2.5th and 97.5th percentile."
   ]
  },
  {
   "cell_type": "code",
   "execution_count": null,
   "id": "de3fa1cb",
   "metadata": {},
   "outputs": [],
   "source": [
    "#Question 3\n",
    "#after bootsrapping and calculating the sample means, sort the bootstrapped means and determine the percentiles for the confidence interval by find the 2.5% and 97.5% of the value in the list of bootstrapped means."
   ]
  },
  {
   "cell_type": "code",
   "execution_count": null,
   "id": "54e7b9f6",
   "metadata": {},
   "outputs": [],
   "source": [
    "#Quesiton 4\n",
    "import numpy as np\n",
    "\n",
    "np.random.seed(42)\n",
    "sample = [1-10]\n",
    "n_bootstrap = 1000\n",
    "bootstrapped_means = np.empty(n_bootstrap)\n",
    "\n",
    "for i in range(n_bootstrap):\n",
    "    bootstrap_sample = np.random.choice(sample, size=len(sample), replace=True)\n",
    "    #to produce a 95% bootstrap confidence interval for different population parameter:\n",
    "    #replace np.mean() with np.median()/np.std()/np.var()\n",
    "    bootstrapped_means[i] = np.mean(bootstrap_sample)\n",
    "\n",
    "# Calculate the 95% confidence interval\n",
    "#to produce a 95% bootstrap confidence interval for different population parameter:\n",
    "#replace np.mean() with np.median()/np.std()/np.var()\n",
    "confidence_interval = np.quantile(bootstrapped_means, [0.025, 0.975])\n",
    "\n",
    "# Print the results\n",
    "print(f\"95% Bootstrap Confidence Interval: {confidence_interval}\")\n",
    "\n"
   ]
  },
  {
   "cell_type": "code",
   "execution_count": null,
   "id": "35d93686",
   "metadata": {},
   "outputs": [],
   "source": [
    "#Question 5\n",
    "#Population parameters describe the characteristics of population,\n",
    "#and the sample statistics describe the characteristics of the sample.\n",
    "#Confidence intervals provides ranges that we believe the true population parameter\n",
    "# is more likly to lie.\n",
    "#We use confidence intervals which calculated by the sample statistic to estimate\n",
    "# the actual population parameters.\n"
   ]
  },
  {
   "cell_type": "code",
   "execution_count": null,
   "id": "8f3a44b9",
   "metadata": {},
   "outputs": [],
   "source": [
    "#Question 6\n",
    "#1.  Firstly, the sample data is obtained, then it will be resampled with\n",
    "# with same sample size and calculate the statistic of interest. This process is\n",
    "# repeacted as many times until enough data is obtained for creating the distribution and anlyzing.\n",
    "\n",
    "#2. Bootstrapping is the process that use sample data to estimate the parameters of\n",
    "# actual data when the actual distribution of population is unknown.\n",
    "\n",
    "#3. To check out a hypothesis, calculate the sample mean first, then go bootsrapping,\n",
    "# then calculate the confidence interval of the distrbution of bootstrap means, usually\n",
    "# with confidence interval of 95%. Then check whether the guess falls within the range of\n",
    "# confidence interval. If it does fall within the range, then the guess is plausible."
   ]
  },
  {
   "cell_type": "code",
   "execution_count": null,
   "id": "c2822ab0",
   "metadata": {},
   "outputs": [],
   "source": [
    "#Question 7\n",
    "#When it is zero, it means that the drug is on average, doing nothing.\n",
    "#Statistically speaking, it is possible for the actual population that the mean is 0\n",
    "# when the confidence interval includes 0. The hypothesis could only be rejected when\n",
    "# the observed value do not fall within the confidence interval"
   ]
  },
  {
   "cell_type": "code",
   "execution_count": 32,
   "id": "0f9d45b4",
   "metadata": {},
   "outputs": [
    {
     "name": "stdout",
     "output_type": "stream",
     "text": [
      "95% Bootstrap Confidence Interval: [-2.5025  2.7   ]\n"
     ]
    }
   ],
   "source": [
    "#Question 8\n",
    "#Null hypothesis: H0 = 0 as the mean of difference between inital and final healf score is 0.\n",
    "#\n",
    "\n",
    "import pandas as pd\n",
    "import numpy as np\n",
    "import matplotlib.pyplot as plt\n",
    "\n",
    "df = pd.read_csv('hw4.csv', usecols=['InitialHealthScore', 'FinalHealthScore'])\n",
    "\n",
    "initial = df['InitialHealthScore']\n",
    "final = df['FinalHealthScore']\n",
    "\n",
    "mean_initial = np.mean(initial)\n",
    "mean_final = np.mean(final)\n",
    "\n",
    "observed_dif = mean_final - mean_initial\n",
    "\n",
    "combined = np.concatenate([initial, final])\n",
    "np.random.seed(42)\n",
    "n_bootstrap = 1000\n",
    "boot_dif = np.empty(n_bootstrap)\n",
    "\n",
    "for i in range(n_bootstrap):\n",
    "    boot_initial = np.random.choice(combined, size=len(initial), replace=True)\n",
    "    boot_final = np.random.choice(combined, size=len(final), replace=True)\n",
    "    boot_dif[i] = np.mean(boot_final) - np.mean(boot_initial)\n",
    "\n",
    "confidence_interval = np.quantile(boot_dif, [0.025, 0.975])\n",
    "\n",
    "print(f\"95% Bootstrap Confidence Interval: {confidence_interval}\")\n"
   ]
  },
  {
   "cell_type": "code",
   "execution_count": null,
   "id": "ef25e01f",
   "metadata": {},
   "outputs": [],
   "source": [
    "#Question 8\n",
    "#the confidence interval is [-2.5025, 2,7], which covers zero so the null hypothesis\n",
    "# could not be rejected. The vaccine may not effective."
   ]
  },
  {
   "cell_type": "code",
   "execution_count": null,
   "id": "5a4e31cf",
   "metadata": {},
   "outputs": [],
   "source": [
    "#question 9:yes"
   ]
  }
 ],
 "metadata": {
  "kernelspec": {
   "display_name": "Python 3 (ipykernel)",
   "language": "python",
   "name": "python3"
  },
  "language_info": {
   "codemirror_mode": {
    "name": "ipython",
    "version": 3
   },
   "file_extension": ".py",
   "mimetype": "text/x-python",
   "name": "python",
   "nbconvert_exporter": "python",
   "pygments_lexer": "ipython3",
   "version": "3.11.6"
  }
 },
 "nbformat": 4,
 "nbformat_minor": 5
}
